{
  "nbformat": 4,
  "nbformat_minor": 0,
  "metadata": {
    "colab": {
      "provenance": []
    },
    "kernelspec": {
      "name": "python3",
      "display_name": "Python 3"
    },
    "language_info": {
      "name": "python"
    }
  },
  "cells": [
    {
      "cell_type": "markdown",
      "source": [
        "# **4.1 Warming Up Exercise: Basic Vector and Matrix Operation with Numpy.**"
      ],
      "metadata": {
        "id": "lqi4JoHtugyu"
      }
    },
    {
      "cell_type": "markdown",
      "source": [
        "**Problem - 1: Array Creation:**"
      ],
      "metadata": {
        "id": "16YFwL-DuvWg"
      }
    },
    {
      "cell_type": "code",
      "source": [
        "import numpy as np"
      ],
      "metadata": {
        "id": "nrocWH2RvBd_"
      },
      "execution_count": 2,
      "outputs": []
    },
    {
      "cell_type": "code",
      "execution_count": null,
      "metadata": {
        "id": "fUtvKtxu4uQu",
        "colab": {
          "base_uri": "https://localhost:8080/"
        },
        "outputId": "fdee08ff-3968-46ce-f41a-1c63f319a5a0"
      },
      "outputs": [
        {
          "output_type": "stream",
          "name": "stdout",
          "text": [
            "[[5.01406124e-310 0.00000000e+000 0.00000000e+000]\n",
            " [0.00000000e+000 0.00000000e+000 0.00000000e+000]\n",
            " [0.00000000e+000 0.00000000e+000 0.00000000e+000]]\n"
          ]
        }
      ],
      "source": [
        "\n",
        "\n",
        "arr = np.empty((3, 3))\n",
        "print(arr)\n"
      ]
    },
    {
      "cell_type": "code",
      "source": [
        "array = np.ones((4,2))\n",
        "print(array)"
      ],
      "metadata": {
        "colab": {
          "base_uri": "https://localhost:8080/"
        },
        "id": "GM3uvNRCvhN6",
        "outputId": "9214ed49-6c83-452c-c09f-da620d25ac06"
      },
      "execution_count": null,
      "outputs": [
        {
          "output_type": "stream",
          "name": "stdout",
          "text": [
            "[[1. 1.]\n",
            " [1. 1.]\n",
            " [1. 1.]\n",
            " [1. 1.]]\n"
          ]
        }
      ]
    },
    {
      "cell_type": "code",
      "source": [
        "a = np.full([2, 2], 67, dtype = int) #shape, fill value, type\n",
        "print(\"\\nMatrix a : \\n\", a)"
      ],
      "metadata": {
        "colab": {
          "base_uri": "https://localhost:8080/"
        },
        "id": "qgXjYfafvq7N",
        "outputId": "c5473284-ae55-446d-fc48-e85e4f1da00e"
      },
      "execution_count": null,
      "outputs": [
        {
          "output_type": "stream",
          "name": "stdout",
          "text": [
            "\n",
            "Matrix a : \n",
            " [[67 67]\n",
            " [67 67]]\n"
          ]
        }
      ]
    },
    {
      "cell_type": "code",
      "source": [
        "my_array = np.array([[1,2,3],[4,5,6]])\n",
        "zeros_array = np.zeros_like(my_array)\n",
        "print(zeros_array)"
      ],
      "metadata": {
        "colab": {
          "base_uri": "https://localhost:8080/"
        },
        "id": "aXitZMg0yliw",
        "outputId": "2d227b23-b76f-404a-cd95-16d58209e142"
      },
      "execution_count": null,
      "outputs": [
        {
          "output_type": "stream",
          "name": "stdout",
          "text": [
            "[[0 0 0]\n",
            " [0 0 0]]\n"
          ]
        }
      ]
    },
    {
      "cell_type": "code",
      "source": [
        "my_array = np.array([[1,2,3],[4,5,6]])\n",
        "ones_array = np.ones_like(my_array)\n",
        "print(ones_array)"
      ],
      "metadata": {
        "colab": {
          "base_uri": "https://localhost:8080/"
        },
        "id": "C7ptwwT5zFBq",
        "outputId": "3d89fd54-9b98-4cdb-b7e3-2bdea8a5dbcf"
      },
      "execution_count": null,
      "outputs": [
        {
          "output_type": "stream",
          "name": "stdout",
          "text": [
            "[[1 1 1]\n",
            " [1 1 1]]\n"
          ]
        }
      ]
    },
    {
      "cell_type": "code",
      "source": [
        "my_list = [1,2,3,4]\n",
        "my_arr = np.array(my_list)\n",
        "print(my_arr)"
      ],
      "metadata": {
        "colab": {
          "base_uri": "https://localhost:8080/"
        },
        "id": "5jlbL7_5zPgI",
        "outputId": "1621557f-57b4-4e93-d65c-d502400de189"
      },
      "execution_count": null,
      "outputs": [
        {
          "output_type": "stream",
          "name": "stdout",
          "text": [
            "[1 2 3 4]\n"
          ]
        }
      ]
    },
    {
      "cell_type": "markdown",
      "source": [
        "**Problem - 2: Array Manipulation: Numerical Ranges and Array indexing**"
      ],
      "metadata": {
        "id": "AjSJMlk_zhwo"
      }
    },
    {
      "cell_type": "code",
      "source": [
        "arr = np.arange(11,50)\n",
        "print(arr)"
      ],
      "metadata": {
        "colab": {
          "base_uri": "https://localhost:8080/"
        },
        "id": "y64JimPSzsrp",
        "outputId": "aad9085b-8146-43fa-cf21-6850e6e79e32"
      },
      "execution_count": null,
      "outputs": [
        {
          "output_type": "stream",
          "name": "stdout",
          "text": [
            "[11 12 13 14 15 16 17 18 19 20 21 22 23 24 25 26 27 28 29 30 31 32 33 34\n",
            " 35 36 37 38 39 40 41 42 43 44 45 46 47 48 49]\n"
          ]
        }
      ]
    },
    {
      "cell_type": "code",
      "source": [
        "mat = np.arange(9).reshape(3,3)\n",
        "print(mat)"
      ],
      "metadata": {
        "colab": {
          "base_uri": "https://localhost:8080/"
        },
        "id": "G-kcXsSx211W",
        "outputId": "bc12eb3a-fcb8-45f1-ce8f-d76fc90718df"
      },
      "execution_count": null,
      "outputs": [
        {
          "output_type": "stream",
          "name": "stdout",
          "text": [
            "[[0 1 2]\n",
            " [3 4 5]\n",
            " [6 7 8]]\n"
          ]
        }
      ]
    },
    {
      "cell_type": "code",
      "source": [
        "iden = np.eye(3)\n",
        "print(iden)"
      ],
      "metadata": {
        "colab": {
          "base_uri": "https://localhost:8080/"
        },
        "id": "fp8yy0bu3eJR",
        "outputId": "9f9b034f-5bbb-4b28-b0c0-536ca37cfecf"
      },
      "execution_count": null,
      "outputs": [
        {
          "output_type": "stream",
          "name": "stdout",
          "text": [
            "[[1. 0. 0.]\n",
            " [0. 1. 0.]\n",
            " [0. 0. 1.]]\n"
          ]
        }
      ]
    },
    {
      "cell_type": "code",
      "source": [
        "rand_array = np.random.random(size=30)\n",
        "print(rand_array)\n",
        "print(\"The mean of the above array is: \",rand_array.mean())"
      ],
      "metadata": {
        "colab": {
          "base_uri": "https://localhost:8080/"
        },
        "id": "B4NvP-9s3xQL",
        "outputId": "15f9f23e-ab5d-4ead-9fd6-8c5d3029d56e"
      },
      "execution_count": null,
      "outputs": [
        {
          "output_type": "stream",
          "name": "stdout",
          "text": [
            "[0.01783479 0.21447172 0.13399751 0.17396424 0.31309838 0.5061609\n",
            " 0.65401059 0.86420719 0.0922379  0.58794806 0.87934306 0.27280655\n",
            " 0.17216388 0.04291684 0.03886279 0.70968545 0.98634003 0.03622323\n",
            " 0.25038918 0.07157621 0.10382111 0.65593762 0.10947488 0.03958638\n",
            " 0.73678358 0.61049856 0.78994746 0.7780533  0.03048165 0.07234617]\n",
            "The mean of the above array is:  0.3648389736865406\n"
          ]
        }
      ]
    },
    {
      "cell_type": "code",
      "source": [
        "rand_array = np.random.random((10,10))\n",
        "print(rand_array)\n",
        "print(\"Minimum Value is \",rand_array.min())\n",
        "print(\"Maximum Value is \",rand_array.max())"
      ],
      "metadata": {
        "colab": {
          "base_uri": "https://localhost:8080/"
        },
        "id": "2_6fLjD44_Bw",
        "outputId": "3d7b9337-f112-439e-d7d5-a7646d5f9517"
      },
      "execution_count": null,
      "outputs": [
        {
          "output_type": "stream",
          "name": "stdout",
          "text": [
            "[[0.30283869 0.41378979 0.36213135 0.06475578 0.18481021 0.93877517\n",
            "  0.75938268 0.75062714 0.06541184 0.95564402]\n",
            " [0.442098   0.30769317 0.99087238 0.78282625 0.468726   0.98185464\n",
            "  0.0735597  0.69387752 0.26978578 0.58254829]\n",
            " [0.94485925 0.28433715 0.38723712 0.44092156 0.38393789 0.22826381\n",
            "  0.80246766 0.41052581 0.78960359 0.75824741]\n",
            " [0.35536978 0.9249491  0.58965066 0.49658367 0.41098797 0.16020776\n",
            "  0.91453614 0.88234478 0.06125539 0.56586631]\n",
            " [0.35651571 0.82986817 0.4035552  0.13654778 0.33017981 0.13049018\n",
            "  0.29951345 0.78752589 0.76302545 0.82742032]\n",
            " [0.89850438 0.12912812 0.14399291 0.73930388 0.64191016 0.5325107\n",
            "  0.46485208 0.50500551 0.70699425 0.84672791]\n",
            " [0.06367327 0.2691381  0.93420401 0.22880816 0.01818373 0.59041877\n",
            "  0.56029178 0.66141093 0.18297359 0.73767598]\n",
            " [0.62168451 0.13461374 0.231539   0.8749315  0.66676603 0.5063979\n",
            "  0.68555623 0.83648106 0.07506537 0.95765909]\n",
            " [0.53475037 0.99772469 0.78150871 0.4433121  0.5039912  0.45224952\n",
            "  0.80714195 0.25519065 0.17916269 0.63236948]\n",
            " [0.74998596 0.68893021 0.41262573 0.41094386 0.99819336 0.6952812\n",
            "  0.12762764 0.61762635 0.66396222 0.45328249]]\n",
            "Minimum Value is  0.018183732198635782\n",
            "Maximum Value is  0.9981933590964098\n"
          ]
        }
      ]
    },
    {
      "cell_type": "code",
      "source": [
        "zero_arr = np.zeros(10)\n",
        "print(zero_arr)\n",
        "zero_arr[5]=1\n",
        "print(zero_arr)"
      ],
      "metadata": {
        "colab": {
          "base_uri": "https://localhost:8080/"
        },
        "id": "_V1QkMyG6Jva",
        "outputId": "b67a26b5-6435-4cbe-8700-fe9d5426f583"
      },
      "execution_count": null,
      "outputs": [
        {
          "output_type": "stream",
          "name": "stdout",
          "text": [
            "[0. 0. 0. 0. 0. 0. 0. 0. 0. 0.]\n",
            "[0. 0. 0. 0. 0. 1. 0. 0. 0. 0.]\n"
          ]
        }
      ]
    },
    {
      "cell_type": "code",
      "source": [
        "arr = [1,2,0,0,4,0]\n",
        "rev = np.flip(arr)\n",
        "print(rev)"
      ],
      "metadata": {
        "colab": {
          "base_uri": "https://localhost:8080/"
        },
        "id": "lPxToENE6hFZ",
        "outputId": "418f9d0b-26b2-4caf-bc75-f9012b219313"
      },
      "execution_count": null,
      "outputs": [
        {
          "output_type": "stream",
          "name": "stdout",
          "text": [
            "[0 4 0 0 2 1]\n"
          ]
        }
      ]
    },
    {
      "cell_type": "code",
      "source": [
        "array = np.zeros((5, 5), dtype=int)\n",
        "\n",
        "# Set the border elements to 1\n",
        "array[0, :] = 1  # Top border\n",
        "array[-1, :] = 1  # Bottom border\n",
        "array[:, 0] = 1  # Left border\n",
        "array[:, -1] = 1  # Right border\n",
        "\n",
        "print(array)"
      ],
      "metadata": {
        "colab": {
          "base_uri": "https://localhost:8080/"
        },
        "id": "57GJxn3G7dRI",
        "outputId": "0dc3f5db-5f71-4369-f84a-dcaf76208ad7"
      },
      "execution_count": null,
      "outputs": [
        {
          "output_type": "stream",
          "name": "stdout",
          "text": [
            "[[1 1 1 1 1]\n",
            " [1 0 0 0 1]\n",
            " [1 0 0 0 1]\n",
            " [1 0 0 0 1]\n",
            " [1 1 1 1 1]]\n"
          ]
        }
      ]
    },
    {
      "cell_type": "code",
      "source": [
        "import numpy as np\n",
        "\n",
        "# Create an 8x8 matrix of zeros\n",
        "checkerboard = np.zeros((8, 8), dtype=int)\n",
        "\n",
        "# Fill the matrix with a checkerboard pattern\n",
        "checkerboard[::2, ::2] = 1  # Fill 1 at even rows and even columns\n",
        "checkerboard[1::2, 1::2] = 1  # Fill 1 at odd rows and odd columns\n",
        "\n",
        "print(checkerboard)\n"
      ],
      "metadata": {
        "colab": {
          "base_uri": "https://localhost:8080/"
        },
        "id": "7hmjDbY38JRq",
        "outputId": "af4f2b0a-49ab-4f16-8860-d5af295d4c69"
      },
      "execution_count": null,
      "outputs": [
        {
          "output_type": "stream",
          "name": "stdout",
          "text": [
            "[[1 0 1 0 1 0 1 0]\n",
            " [0 1 0 1 0 1 0 1]\n",
            " [1 0 1 0 1 0 1 0]\n",
            " [0 1 0 1 0 1 0 1]\n",
            " [1 0 1 0 1 0 1 0]\n",
            " [0 1 0 1 0 1 0 1]\n",
            " [1 0 1 0 1 0 1 0]\n",
            " [0 1 0 1 0 1 0 1]]\n"
          ]
        }
      ]
    },
    {
      "cell_type": "markdown",
      "source": [
        "**Problem - 3: Array Operations:**"
      ],
      "metadata": {
        "id": "DFmrAckzstZU"
      }
    },
    {
      "cell_type": "code",
      "source": [
        "x = np.array([[1, 2], [3, 5]])\n",
        "y = np.array([[5, 6], [7, 8]])\n",
        "v = np.array([9, 10])\n",
        "w = np.array([11, 12])\n",
        "\n",
        "print(\"Arrays:\")\n",
        "print(\"x =\", x)\n",
        "print(\"y =\", y)\n",
        "print(\"v =\", v)\n",
        "print(\"w =\", w)\n",
        "print()\n"
      ],
      "metadata": {
        "colab": {
          "base_uri": "https://localhost:8080/"
        },
        "id": "UJVduFGhsvNb",
        "outputId": "71579827-0033-45c3-e107-bdaa5afe3961"
      },
      "execution_count": 5,
      "outputs": [
        {
          "output_type": "stream",
          "name": "stdout",
          "text": [
            "Arrays:\n",
            "x = [[1 2]\n",
            " [3 5]]\n",
            "y = [[5 6]\n",
            " [7 8]]\n",
            "v = [ 9 10]\n",
            "w = [11 12]\n",
            "\n"
          ]
        }
      ]
    },
    {
      "cell_type": "code",
      "source": [
        "print(\"1. Addition of x and y:\")\n",
        "print(x + y)\n",
        "\n",
        "print(\"2. Subtraction of y from x:\")\n",
        "print(x - y)\n",
        "\n",
        "print(\"3. Multiply x by 2:\")\n",
        "print(x * 2)\n",
        "\n",
        "print(\"4. Square of each element in x:\")\n",
        "print(np.square(x))\n"
      ],
      "metadata": {
        "colab": {
          "base_uri": "https://localhost:8080/"
        },
        "id": "9VgDcX-DtBQI",
        "outputId": "78cbd7ac-fa8e-4af2-d34a-e2b0b13b13d3"
      },
      "execution_count": null,
      "outputs": [
        {
          "output_type": "stream",
          "name": "stdout",
          "text": [
            "1. Addition of x and y:\n",
            "[[ 6  8]\n",
            " [10 13]]\n",
            "2. Subtraction of y from x:\n",
            "[[-4 -4]\n",
            " [-4 -3]]\n",
            "3. Multiply x by 2:\n",
            "[[ 2  4]\n",
            " [ 6 10]]\n",
            "4. Square of each element in x:\n",
            "[[ 1  4]\n",
            " [ 9 25]]\n"
          ]
        }
      ]
    },
    {
      "cell_type": "code",
      "source": [
        "print(\"5. Dot products:\")\n",
        "print(\"v . w =\", np.dot(v, w))\n",
        "print(\"x . v =\")\n",
        "print(np.dot(x, v))\n",
        "print(\"x . y =\")\n",
        "print(np.dot(x, y))\n"
      ],
      "metadata": {
        "colab": {
          "base_uri": "https://localhost:8080/"
        },
        "id": "Y1SO8ZP9tdj2",
        "outputId": "1e39d6c9-3ae6-409c-f2fd-0d8006d9aefc"
      },
      "execution_count": null,
      "outputs": [
        {
          "output_type": "stream",
          "name": "stdout",
          "text": [
            "5. Dot products:\n",
            "v . w = 219\n",
            "x . v =\n",
            "[29 77]\n",
            "x . y =\n",
            "[[19 22]\n",
            " [50 58]]\n"
          ]
        }
      ]
    },
    {
      "cell_type": "code",
      "source": [
        "concat_xy = np.concatenate((x, y), axis=0)  # Along rows\n",
        "concat_vw = np.vstack((v, w))  # Along columns\n",
        "print(\"Concatenation of x and y: \",concat_xy)\n",
        "print(\"Concatenation of v and w: \",concat_vw)\n",
        "\n"
      ],
      "metadata": {
        "colab": {
          "base_uri": "https://localhost:8080/"
        },
        "id": "f9O_Cfnltolz",
        "outputId": "bc511062-1850-45e8-c542-7ccae7a53ad2"
      },
      "execution_count": 8,
      "outputs": [
        {
          "output_type": "stream",
          "name": "stdout",
          "text": [
            "Concatenation of x and y:  [[1 2]\n",
            " [3 5]\n",
            " [5 6]\n",
            " [7 8]]\n",
            "Concatenation of v and w:  [[ 9 10]\n",
            " [11 12]]\n"
          ]
        }
      ]
    },
    {
      "cell_type": "code",
      "source": [
        "try:\n",
        "    result = np.concatenate((x, v), axis=0)\n",
        "    print(result)\n",
        "except ValueError as e:\n",
        "    print(f\"Error occurred: {e}\")"
      ],
      "metadata": {
        "colab": {
          "base_uri": "https://localhost:8080/"
        },
        "id": "SHIiorW5Tvwl",
        "outputId": "89f7d9af-e553-4793-9ee2-e521b4df7723"
      },
      "execution_count": 7,
      "outputs": [
        {
          "output_type": "stream",
          "name": "stdout",
          "text": [
            "Error occurred: all the input arrays must have same number of dimensions, but the array at index 0 has 2 dimension(s) and the array at index 1 has 1 dimension(s)\n"
          ]
        }
      ]
    },
    {
      "cell_type": "markdown",
      "source": [
        "The error occured because x and v have different dimensions i.e. x has 2 row and v doesnt have same row. Thererfore, the number of rows and columns must be same in order to concatinate two arrays."
      ],
      "metadata": {
        "id": "CyyQkodZVDiL"
      }
    },
    {
      "cell_type": "markdown",
      "source": [
        "**Problem - 4: Matrix Operations:**"
      ],
      "metadata": {
        "id": "IwstT2X-t1mK"
      }
    },
    {
      "cell_type": "code",
      "source": [
        "A = np.array([[1, 2], [3, 4]])\n",
        "B = np.array([[5, 6], [7, 8]])\n",
        "AB = np.dot(A, B)\n",
        "AB_T = AB.T\n",
        "\n",
        "B_T = B.T\n",
        "A_T = A.T\n",
        "B_T_A_T = np.dot(B_T, A_T)\n",
        "\n",
        "are_equal = np.array_equal(AB_T, B_T_A_T)\n",
        "\n",
        "print(\"(AB)^T:\", AB_T)\n",
        "print(\"B^T A^T:\", B_T_A_T)\n",
        "print(\"Is (AB)^T equal to B^T A^T? \", are_equal)"
      ],
      "metadata": {
        "id": "97O0HdHftz3p",
        "colab": {
          "base_uri": "https://localhost:8080/"
        },
        "outputId": "45b50cef-1ab2-4124-82e1-a3c139143220"
      },
      "execution_count": null,
      "outputs": [
        {
          "output_type": "stream",
          "name": "stdout",
          "text": [
            "(AB)^T: [[19 43]\n",
            " [22 50]]\n",
            "B^T A^T: [[19 43]\n",
            " [22 50]]\n",
            "Is (AB)^T equal to B^T A^T?  True\n"
          ]
        }
      ]
    },
    {
      "cell_type": "code",
      "source": [
        "import time\n",
        "\n",
        "list1, list2 = range(1_000_000), range(1_000_000)\n",
        "start = time.time()\n",
        "list_sum = [x + y for x, y in zip(list1, list2)]\n",
        "time_list = time.time() - start\n",
        "\n",
        "array1, array2 = np.arange(1_000_000), np.arange(1_000_000)\n",
        "start = time.time()\n",
        "array_sum = array1 + array2\n",
        "time_numpy = time.time() - start\n",
        "\n",
        "print(f\"Python lists: {time_list:.3f}s, NumPy arrays: {time_numpy:.3f}s\")"
      ],
      "metadata": {
        "colab": {
          "base_uri": "https://localhost:8080/"
        },
        "id": "4OSrNHJHnTy_",
        "outputId": "fe19ebf6-bbca-4361-84e6-12bb6184ad75"
      },
      "execution_count": null,
      "outputs": [
        {
          "output_type": "stream",
          "name": "stdout",
          "text": [
            "Python lists: 0.132s, NumPy arrays: 0.015s\n"
          ]
        }
      ]
    },
    {
      "cell_type": "code",
      "source": [
        "list1, list2 = range(1_000_000), range(1_000_000)\n",
        "\n",
        "start = time.time()\n",
        "list_product = [x * y for x, y in zip(list1, list2)]\n",
        "time_list = time.time() - start\n",
        "\n",
        "array1, array2 = np.arange(1_000_000), np.arange(1_000_000)\n",
        "\n",
        "start = time.time()\n",
        "array_product = array1 * array2\n",
        "time_numpy = time.time() - start\n",
        "\n",
        "print(f\"Python lists: {time_list:.3f}s, NumPy arrays: {time_numpy:.3f}s\")"
      ],
      "metadata": {
        "colab": {
          "base_uri": "https://localhost:8080/"
        },
        "id": "FtocREqJnWdR",
        "outputId": "b12ea0bc-f3ee-4e98-f350-108231e36245"
      },
      "execution_count": null,
      "outputs": [
        {
          "output_type": "stream",
          "name": "stdout",
          "text": [
            "Python lists: 0.129s, NumPy arrays: 0.005s\n"
          ]
        }
      ]
    }
  ]
}