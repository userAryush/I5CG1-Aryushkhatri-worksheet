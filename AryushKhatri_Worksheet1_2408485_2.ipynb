{
  "nbformat": 4,
  "nbformat_minor": 0,
  "metadata": {
    "colab": {
      "provenance": []
    },
    "kernelspec": {
      "name": "python3",
      "display_name": "Python 3"
    },
    "language_info": {
      "name": "python"
    }
  },
  "cells": [
    {
      "cell_type": "markdown",
      "source": [
        "# **4.1 Warming Up Exercise: Basic Vector and Matrix Operation with Numpy.**"
      ],
      "metadata": {
        "id": "lqi4JoHtugyu"
      }
    },
    {
      "cell_type": "markdown",
      "source": [
        "**Problem - 1: Array Creation:**"
      ],
      "metadata": {
        "id": "16YFwL-DuvWg"
      }
    },
    {
      "cell_type": "code",
      "source": [
        "import numpy as np"
      ],
      "metadata": {
        "id": "nrocWH2RvBd_"
      },
      "execution_count": 2,
      "outputs": []
    },
    {
      "cell_type": "code",
      "execution_count": 3,
      "metadata": {
        "id": "fUtvKtxu4uQu",
        "colab": {
          "base_uri": "https://localhost:8080/"
        },
        "outputId": "24d6163f-4937-4198-c350-cdfbe73df9c2"
      },
      "outputs": [
        {
          "output_type": "stream",
          "name": "stdout",
          "text": [
            "[[4.77183458e-310 0.00000000e+000 0.00000000e+000]\n",
            " [0.00000000e+000 0.00000000e+000 0.00000000e+000]\n",
            " [0.00000000e+000 0.00000000e+000 0.00000000e+000]]\n"
          ]
        }
      ],
      "source": [
        "\n",
        "\n",
        "arr = np.empty((3, 3))\n",
        "print(arr)\n"
      ]
    },
    {
      "cell_type": "code",
      "source": [
        "array = np.ones((4,2))\n",
        "print(array)"
      ],
      "metadata": {
        "colab": {
          "base_uri": "https://localhost:8080/"
        },
        "id": "GM3uvNRCvhN6",
        "outputId": "272d5dc7-4f41-4ff7-b412-415f99ab0175"
      },
      "execution_count": 4,
      "outputs": [
        {
          "output_type": "stream",
          "name": "stdout",
          "text": [
            "[[1. 1.]\n",
            " [1. 1.]\n",
            " [1. 1.]\n",
            " [1. 1.]]\n"
          ]
        }
      ]
    },
    {
      "cell_type": "code",
      "source": [
        "a = np.full([2, 2], 67, dtype = int) #shape, fill value, type\n",
        "print(\"\\nMatrix a : \\n\", a)"
      ],
      "metadata": {
        "colab": {
          "base_uri": "https://localhost:8080/"
        },
        "id": "qgXjYfafvq7N",
        "outputId": "f27146d4-cf61-4fc4-8a1d-9929f06a4504"
      },
      "execution_count": 5,
      "outputs": [
        {
          "output_type": "stream",
          "name": "stdout",
          "text": [
            "\n",
            "Matrix a : \n",
            " [[67 67]\n",
            " [67 67]]\n"
          ]
        }
      ]
    },
    {
      "cell_type": "code",
      "source": [
        "my_array = np.array([[1,2,3],[4,5,6]])\n",
        "zeros_array = np.zeros_like(my_array)\n",
        "print(zeros_array)"
      ],
      "metadata": {
        "colab": {
          "base_uri": "https://localhost:8080/"
        },
        "id": "aXitZMg0yliw",
        "outputId": "42f67361-181e-41e9-d990-83ff119fd54a"
      },
      "execution_count": 6,
      "outputs": [
        {
          "output_type": "stream",
          "name": "stdout",
          "text": [
            "[[0 0 0]\n",
            " [0 0 0]]\n"
          ]
        }
      ]
    },
    {
      "cell_type": "code",
      "source": [
        "my_array = np.array([[1,2,3],[4,5,6]])\n",
        "ones_array = np.ones_like(my_array)\n",
        "print(ones_array)"
      ],
      "metadata": {
        "colab": {
          "base_uri": "https://localhost:8080/"
        },
        "id": "C7ptwwT5zFBq",
        "outputId": "0c6dafe2-eb3f-4cf2-fda2-9ee6c7cb31b6"
      },
      "execution_count": 7,
      "outputs": [
        {
          "output_type": "stream",
          "name": "stdout",
          "text": [
            "[[1 1 1]\n",
            " [1 1 1]]\n"
          ]
        }
      ]
    },
    {
      "cell_type": "code",
      "source": [
        "my_list = [1,2,3,4]\n",
        "my_arr = np.array(my_list)\n",
        "print(my_arr)"
      ],
      "metadata": {
        "colab": {
          "base_uri": "https://localhost:8080/"
        },
        "id": "5jlbL7_5zPgI",
        "outputId": "02a879cd-e27d-44b4-929f-22e076dd2665"
      },
      "execution_count": 8,
      "outputs": [
        {
          "output_type": "stream",
          "name": "stdout",
          "text": [
            "[1 2 3 4]\n"
          ]
        }
      ]
    },
    {
      "cell_type": "markdown",
      "source": [
        "**Problem - 2: Array Manipulation: Numerical Ranges and Array indexing**"
      ],
      "metadata": {
        "id": "AjSJMlk_zhwo"
      }
    },
    {
      "cell_type": "code",
      "source": [
        "arr = np.arange(11,50)\n",
        "print(arr)"
      ],
      "metadata": {
        "colab": {
          "base_uri": "https://localhost:8080/"
        },
        "id": "y64JimPSzsrp",
        "outputId": "00e1aa2c-0e9c-48a3-c23b-8740fb5ba5e9"
      },
      "execution_count": 9,
      "outputs": [
        {
          "output_type": "stream",
          "name": "stdout",
          "text": [
            "[11 12 13 14 15 16 17 18 19 20 21 22 23 24 25 26 27 28 29 30 31 32 33 34\n",
            " 35 36 37 38 39 40 41 42 43 44 45 46 47 48 49]\n"
          ]
        }
      ]
    },
    {
      "cell_type": "code",
      "source": [
        "mat = np.arange(9).reshape(3,3)\n",
        "print(mat)"
      ],
      "metadata": {
        "colab": {
          "base_uri": "https://localhost:8080/"
        },
        "id": "G-kcXsSx211W",
        "outputId": "be1a7da2-f4a4-4e04-c2e9-10fcca5d8f0f"
      },
      "execution_count": 10,
      "outputs": [
        {
          "output_type": "stream",
          "name": "stdout",
          "text": [
            "[[0 1 2]\n",
            " [3 4 5]\n",
            " [6 7 8]]\n"
          ]
        }
      ]
    },
    {
      "cell_type": "code",
      "source": [
        "iden = np.eye(3)\n",
        "print(iden)"
      ],
      "metadata": {
        "colab": {
          "base_uri": "https://localhost:8080/"
        },
        "id": "fp8yy0bu3eJR",
        "outputId": "635ab0bb-d30e-4502-9d78-18a406ba25b1"
      },
      "execution_count": 11,
      "outputs": [
        {
          "output_type": "stream",
          "name": "stdout",
          "text": [
            "[[1. 0. 0.]\n",
            " [0. 1. 0.]\n",
            " [0. 0. 1.]]\n"
          ]
        }
      ]
    },
    {
      "cell_type": "code",
      "source": [
        "rand_array = np.random.random(size=30)\n",
        "print(rand_array)\n",
        "print(\"The mean of the above array is: \",rand_array.mean())"
      ],
      "metadata": {
        "colab": {
          "base_uri": "https://localhost:8080/"
        },
        "id": "B4NvP-9s3xQL",
        "outputId": "5e6d495e-ee50-4573-ba54-23187e4a995a"
      },
      "execution_count": 12,
      "outputs": [
        {
          "output_type": "stream",
          "name": "stdout",
          "text": [
            "[0.61133331 0.71341691 0.82945028 0.42656364 0.75612803 0.10802443\n",
            " 0.87052061 0.37348557 0.18978426 0.23417048 0.14412306 0.65566142\n",
            " 0.69824507 0.58056317 0.65073094 0.62508417 0.36130703 0.69811132\n",
            " 0.78508141 0.89416851 0.28128664 0.92914252 0.71179291 0.14363946\n",
            " 0.76132728 0.42250149 0.15234469 0.93433152 0.91762379 0.80029189]\n",
            "The mean of the above array is:  0.5753411934265997\n"
          ]
        }
      ]
    },
    {
      "cell_type": "code",
      "source": [
        "rand_array = np.random.random((10,10))\n",
        "print(rand_array)\n",
        "print(\"Minimum Value is \",rand_array.min())\n",
        "print(\"Maximum Value is \",rand_array.max())"
      ],
      "metadata": {
        "colab": {
          "base_uri": "https://localhost:8080/"
        },
        "id": "2_6fLjD44_Bw",
        "outputId": "cd4cd561-322e-4992-a28c-87eddbabd944"
      },
      "execution_count": 13,
      "outputs": [
        {
          "output_type": "stream",
          "name": "stdout",
          "text": [
            "[[0.90111959 0.71753543 0.47014725 0.70464948 0.99760271 0.1405548\n",
            "  0.15361874 0.57081148 0.52831521 0.26224753]\n",
            " [0.98181607 0.7384377  0.76364254 0.42678303 0.35476801 0.6818434\n",
            "  0.89095232 0.4297856  0.55794907 0.53700451]\n",
            " [0.62793262 0.98164878 0.01911879 0.78494143 0.11205523 0.11794217\n",
            "  0.12231136 0.27446139 0.10488065 0.81851456]\n",
            " [0.52978381 0.77659358 0.58316724 0.06248098 0.3548338  0.30804282\n",
            "  0.86652642 0.62879484 0.33458932 0.0890782 ]\n",
            " [0.60774587 0.02613144 0.60747107 0.70533178 0.0583098  0.24350509\n",
            "  0.29964501 0.19718858 0.31798767 0.8022981 ]\n",
            " [0.90763819 0.24216235 0.82489586 0.03282644 0.42902655 0.17942427\n",
            "  0.95540771 0.10398591 0.34371511 0.97997532]\n",
            " [0.12533116 0.80108851 0.38408085 0.14916013 0.03961158 0.35393546\n",
            "  0.9542917  0.78149703 0.64266954 0.31392039]\n",
            " [0.98240961 0.73253733 0.93313123 0.82913362 0.57151447 0.29866784\n",
            "  0.95986835 0.00231384 0.16413132 0.47018701]\n",
            " [0.59845308 0.90146979 0.96286774 0.89829838 0.85794769 0.19864489\n",
            "  0.36829044 0.37175636 0.1382935  0.31140198]\n",
            " [0.5878284  0.07083309 0.80624952 0.54791616 0.08917713 0.93640132\n",
            "  0.62380987 0.74631605 0.58975415 0.30614598]]\n",
            "Minimum Value is  0.0023138359076980697\n",
            "Maximum Value is  0.9976027144935408\n"
          ]
        }
      ]
    },
    {
      "cell_type": "code",
      "source": [
        "zero_arr = np.zeros(10)\n",
        "print(zero_arr)\n",
        "zero_arr[5]=1\n",
        "print(zero_arr)"
      ],
      "metadata": {
        "colab": {
          "base_uri": "https://localhost:8080/"
        },
        "id": "_V1QkMyG6Jva",
        "outputId": "557da939-91dd-4863-dadf-ea17d31b7e49"
      },
      "execution_count": 14,
      "outputs": [
        {
          "output_type": "stream",
          "name": "stdout",
          "text": [
            "[0. 0. 0. 0. 0. 0. 0. 0. 0. 0.]\n",
            "[0. 0. 0. 0. 0. 1. 0. 0. 0. 0.]\n"
          ]
        }
      ]
    },
    {
      "cell_type": "code",
      "source": [
        "arr = [1,2,0,0,4,0]\n",
        "rev = np.flip(arr)\n",
        "print(rev)"
      ],
      "metadata": {
        "colab": {
          "base_uri": "https://localhost:8080/"
        },
        "id": "lPxToENE6hFZ",
        "outputId": "f12bd166-0133-4c9c-cb04-6f11ba6885b1"
      },
      "execution_count": 15,
      "outputs": [
        {
          "output_type": "stream",
          "name": "stdout",
          "text": [
            "[0 4 0 0 2 1]\n"
          ]
        }
      ]
    },
    {
      "cell_type": "code",
      "source": [
        "array = np.zeros((5, 5), dtype=int)\n",
        "\n",
        "# Set the border elements to 1\n",
        "array[0, :] = 1  # Top border\n",
        "array[-1, :] = 1  # Bottom border\n",
        "array[:, 0] = 1  # Left border\n",
        "array[:, -1] = 1  # Right border\n",
        "\n",
        "print(array)"
      ],
      "metadata": {
        "colab": {
          "base_uri": "https://localhost:8080/"
        },
        "id": "57GJxn3G7dRI",
        "outputId": "4f1dd229-f638-44fb-b979-3fef8401f177"
      },
      "execution_count": 16,
      "outputs": [
        {
          "output_type": "stream",
          "name": "stdout",
          "text": [
            "[[1 1 1 1 1]\n",
            " [1 0 0 0 1]\n",
            " [1 0 0 0 1]\n",
            " [1 0 0 0 1]\n",
            " [1 1 1 1 1]]\n"
          ]
        }
      ]
    },
    {
      "cell_type": "code",
      "source": [
        "import numpy as np\n",
        "\n",
        "# Create an 8x8 matrix of zeros\n",
        "checkerboard = np.zeros((8, 8), dtype=int)\n",
        "\n",
        "# Fill the matrix with a checkerboard pattern\n",
        "checkerboard[::2, ::2] = 1  # Fill 1 at even rows and even columns\n",
        "checkerboard[1::2, 1::2] = 1  # Fill 1 at odd rows and odd columns\n",
        "\n",
        "print(checkerboard)\n"
      ],
      "metadata": {
        "colab": {
          "base_uri": "https://localhost:8080/"
        },
        "id": "7hmjDbY38JRq",
        "outputId": "a03c7dde-215e-4709-a0f3-4aec5ea148df"
      },
      "execution_count": 17,
      "outputs": [
        {
          "output_type": "stream",
          "name": "stdout",
          "text": [
            "[[1 0 1 0 1 0 1 0]\n",
            " [0 1 0 1 0 1 0 1]\n",
            " [1 0 1 0 1 0 1 0]\n",
            " [0 1 0 1 0 1 0 1]\n",
            " [1 0 1 0 1 0 1 0]\n",
            " [0 1 0 1 0 1 0 1]\n",
            " [1 0 1 0 1 0 1 0]\n",
            " [0 1 0 1 0 1 0 1]]\n"
          ]
        }
      ]
    },
    {
      "cell_type": "markdown",
      "source": [
        "**Problem - 3: Array Operations:**"
      ],
      "metadata": {
        "id": "DFmrAckzstZU"
      }
    },
    {
      "cell_type": "code",
      "source": [
        "x = np.array([[1, 2], [3, 5]])\n",
        "y = np.array([[5, 6], [7, 8]])\n",
        "v = np.array([9, 10])\n",
        "w = np.array([11, 12])\n",
        "\n",
        "print(\"Arrays:\")\n",
        "print(\"x =\", x)\n",
        "print(\"y =\", y)\n",
        "print(\"v =\", v)\n",
        "print(\"w =\", w)\n",
        "print()\n"
      ],
      "metadata": {
        "colab": {
          "base_uri": "https://localhost:8080/"
        },
        "id": "UJVduFGhsvNb",
        "outputId": "d4538754-f685-4ba2-d430-b5cceb8084fa"
      },
      "execution_count": 18,
      "outputs": [
        {
          "output_type": "stream",
          "name": "stdout",
          "text": [
            "Arrays:\n",
            "x = [[1 2]\n",
            " [3 5]]\n",
            "y = [[5 6]\n",
            " [7 8]]\n",
            "v = [ 9 10]\n",
            "w = [11 12]\n",
            "\n"
          ]
        }
      ]
    },
    {
      "cell_type": "code",
      "source": [
        "print(\"1. Addition of x and y:\")\n",
        "print(x + y)\n",
        "\n",
        "print(\"2. Subtraction of y from x:\")\n",
        "print(x - y)\n",
        "\n",
        "print(\"3. Multiply x by 2:\")\n",
        "print(x * 2)\n",
        "\n",
        "print(\"4. Square of each element in x:\")\n",
        "print(np.square(x))\n"
      ],
      "metadata": {
        "colab": {
          "base_uri": "https://localhost:8080/"
        },
        "id": "9VgDcX-DtBQI",
        "outputId": "f79a0b92-92ad-45e0-a63a-f8ce046c3c94"
      },
      "execution_count": 19,
      "outputs": [
        {
          "output_type": "stream",
          "name": "stdout",
          "text": [
            "1. Addition of x and y:\n",
            "[[ 6  8]\n",
            " [10 13]]\n",
            "2. Subtraction of y from x:\n",
            "[[-4 -4]\n",
            " [-4 -3]]\n",
            "3. Multiply x by 2:\n",
            "[[ 2  4]\n",
            " [ 6 10]]\n",
            "4. Square of each element in x:\n",
            "[[ 1  4]\n",
            " [ 9 25]]\n"
          ]
        }
      ]
    },
    {
      "cell_type": "code",
      "source": [
        "print(\"5. Dot products:\")\n",
        "print(\"v . w =\", np.dot(v, w))\n",
        "print(\"x . v =\")\n",
        "print(np.dot(x, v))\n",
        "print(\"x . y =\")\n",
        "print(np.dot(x, y))\n"
      ],
      "metadata": {
        "colab": {
          "base_uri": "https://localhost:8080/"
        },
        "id": "Y1SO8ZP9tdj2",
        "outputId": "5226906b-338f-4307-a27f-1720139a4477"
      },
      "execution_count": 20,
      "outputs": [
        {
          "output_type": "stream",
          "name": "stdout",
          "text": [
            "5. Dot products:\n",
            "v . w = 219\n",
            "x . v =\n",
            "[29 77]\n",
            "x . y =\n",
            "[[19 22]\n",
            " [50 58]]\n"
          ]
        }
      ]
    },
    {
      "cell_type": "code",
      "source": [
        "concat_xy = np.concatenate((x, y), axis=0)  # Along rows\n",
        "concat_vw = np.vstack((v, w))  # Along columns\n",
        "print(\"Concatenation of x and y: \",concat_xy)\n",
        "print(\"Concatenation of v and w: \",concat_vw)\n",
        "\n"
      ],
      "metadata": {
        "colab": {
          "base_uri": "https://localhost:8080/"
        },
        "id": "f9O_Cfnltolz",
        "outputId": "8f878945-5673-459a-aced-1dbe72d31f1f"
      },
      "execution_count": 21,
      "outputs": [
        {
          "output_type": "stream",
          "name": "stdout",
          "text": [
            "Concatenation of x and y:  [[1 2]\n",
            " [3 5]\n",
            " [5 6]\n",
            " [7 8]]\n",
            "Concatenation of v and w:  [[ 9 10]\n",
            " [11 12]]\n"
          ]
        }
      ]
    },
    {
      "cell_type": "code",
      "source": [
        "try:\n",
        "    result = np.concatenate((x, v), axis=0)\n",
        "    print(result)\n",
        "except ValueError as e:\n",
        "    print(f\"Error occurred: {e}\")"
      ],
      "metadata": {
        "colab": {
          "base_uri": "https://localhost:8080/"
        },
        "id": "SHIiorW5Tvwl",
        "outputId": "332901e2-d83a-46f8-eec2-fcd76dc598e9"
      },
      "execution_count": 22,
      "outputs": [
        {
          "output_type": "stream",
          "name": "stdout",
          "text": [
            "Error occurred: all the input arrays must have same number of dimensions, but the array at index 0 has 2 dimension(s) and the array at index 1 has 1 dimension(s)\n"
          ]
        }
      ]
    },
    {
      "cell_type": "markdown",
      "source": [
        "The error occured because x and v have different dimensions i.e. x has 2 row and v doesnt have same row. Thererfore, the number of rows and columns must be same in order to concatinate two arrays."
      ],
      "metadata": {
        "id": "CyyQkodZVDiL"
      }
    },
    {
      "cell_type": "markdown",
      "source": [
        "**Problem - 4: Matrix Operations:**"
      ],
      "metadata": {
        "id": "IwstT2X-t1mK"
      }
    },
    {
      "cell_type": "code",
      "source": [
        "A = np.array([[1, 2], [3, 4]])\n",
        "B = np.array([[5, 6], [7, 8]])\n",
        "AB = np.dot(A, B)\n",
        "AB_T = AB.T\n",
        "\n",
        "B_T = B.T\n",
        "A_T = A.T\n",
        "B_T_A_T = np.dot(B_T, A_T)\n",
        "\n",
        "are_equal = np.array_equal(AB_T, B_T_A_T)\n",
        "\n",
        "print(\"(AB)^T:\", AB_T)\n",
        "print(\"B^T A^T:\", B_T_A_T)\n",
        "print(\"Is (AB)^T equal to B^T A^T? \", are_equal)"
      ],
      "metadata": {
        "id": "97O0HdHftz3p",
        "colab": {
          "base_uri": "https://localhost:8080/"
        },
        "outputId": "49ef2569-1862-45d3-c0dd-93f810af5000"
      },
      "execution_count": 23,
      "outputs": [
        {
          "output_type": "stream",
          "name": "stdout",
          "text": [
            "(AB)^T: [[19 43]\n",
            " [22 50]]\n",
            "B^T A^T: [[19 43]\n",
            " [22 50]]\n",
            "Is (AB)^T equal to B^T A^T?  True\n"
          ]
        }
      ]
    },
    {
      "cell_type": "code",
      "source": [
        "import time\n",
        "\n",
        "list1, list2 = range(1_000_000), range(1_000_000)\n",
        "start = time.time()\n",
        "list_sum = [x + y for x, y in zip(list1, list2)]\n",
        "time_list = time.time() - start\n",
        "\n",
        "array1, array2 = np.arange(1_000_000), np.arange(1_000_000)\n",
        "start = time.time()\n",
        "array_sum = array1 + array2\n",
        "time_numpy = time.time() - start\n",
        "\n",
        "print(f\"Python lists: {time_list:.3f}s, NumPy arrays: {time_numpy:.3f}s\")"
      ],
      "metadata": {
        "colab": {
          "base_uri": "https://localhost:8080/"
        },
        "id": "4OSrNHJHnTy_",
        "outputId": "d8f42241-87dc-4446-d0b6-41c3078d55fe"
      },
      "execution_count": 24,
      "outputs": [
        {
          "output_type": "stream",
          "name": "stdout",
          "text": [
            "Python lists: 0.147s, NumPy arrays: 0.005s\n"
          ]
        }
      ]
    },
    {
      "cell_type": "code",
      "source": [
        "list1, list2 = range(1_000_000), range(1_000_000)\n",
        "\n",
        "start = time.time()\n",
        "list_product = [x * y for x, y in zip(list1, list2)]\n",
        "time_list = time.time() - start\n",
        "\n",
        "array1, array2 = np.arange(1_000_000), np.arange(1_000_000)\n",
        "\n",
        "start = time.time()\n",
        "array_product = array1 * array2\n",
        "time_numpy = time.time() - start\n",
        "\n",
        "print(f\"Python lists: {time_list:.3f}s, NumPy arrays: {time_numpy:.3f}s\")"
      ],
      "metadata": {
        "colab": {
          "base_uri": "https://localhost:8080/"
        },
        "id": "FtocREqJnWdR",
        "outputId": "7be9e08e-f642-49e3-ac60-00f91c5e035e"
      },
      "execution_count": 25,
      "outputs": [
        {
          "output_type": "stream",
          "name": "stdout",
          "text": [
            "Python lists: 0.174s, NumPy arrays: 0.006s\n"
          ]
        }
      ]
    },
    {
      "cell_type": "markdown",
      "source": [
        "**EXPERIMENT**"
      ],
      "metadata": {
        "id": "S4cYOAH9EOng"
      }
    },
    {
      "cell_type": "code",
      "source": [
        "import time\n",
        "\n",
        "# Function to measure time taken for an operation\n",
        "def measure_time(func):\n",
        "    start_time = time.time()\n",
        "    func()\n",
        "    end_time = time.time()\n",
        "    return end_time - start_time"
      ],
      "metadata": {
        "id": "O5gYG8WiENYi"
      },
      "execution_count": 30,
      "outputs": []
    },
    {
      "cell_type": "markdown",
      "source": [
        "1. Element-wise Addition"
      ],
      "metadata": {
        "id": "TqYDeJ11Fdv-"
      }
    },
    {
      "cell_type": "code",
      "source": [
        "def addition_python():\n",
        "    list1 = [i for i in range(1_000_000)]\n",
        "    list2 = [i for i in range(1_000_000)]\n",
        "    result = [list1[i] + list2[i] for i in range(len(list1))]\n",
        "def addition_numpy():\n",
        "    arr1 = np.arange(1_000_000)\n",
        "    arr2 = np.arange(1_000_000)\n",
        "    result = arr1 + arr2\n",
        "\n",
        "print(\"Element-wise Addition: \")\n",
        "print(f\"Python lists took {measure_time(addition_python):.6f} seconds\")\n",
        "print(f\"Numpy array took {measure_time(addition_numpy):.6f} seconds\")"
      ],
      "metadata": {
        "colab": {
          "base_uri": "https://localhost:8080/"
        },
        "id": "5_NpzmIXFcW6",
        "outputId": "7bb6cf55-b279-4a88-ab04-12823303a970"
      },
      "execution_count": 33,
      "outputs": [
        {
          "output_type": "stream",
          "name": "stdout",
          "text": [
            "Element-wise Addition: \n",
            "Python lists took 0.278781 seconds\n",
            "Numpy array took 0.009767 seconds\n"
          ]
        }
      ]
    },
    {
      "cell_type": "markdown",
      "source": [
        "2. Element-wise Multiplication"
      ],
      "metadata": {
        "id": "dtdsasGGFkum"
      }
    },
    {
      "cell_type": "code",
      "source": [
        "def multiplication_python():\n",
        "    list1 = [i for i in range(1_000_000)]\n",
        "    list2 = [i for i in range(1_000_000)]\n",
        "    result = [list1[i] * list2[i] for i in range(len(list1))]\n",
        "\n",
        "def multiplication_numpy():\n",
        "    arr1 = np.arange(1_000_000)\n",
        "    arr2 = np.arange(1_000_000)\n",
        "    result = arr1 * arr2\n",
        "\n",
        "print(\"Element-wise Multiplication:\")\n",
        "print(f\"Python lists took {measure_time(multiplication_python):.6f} seconds\")\n",
        "print(f\"Numpy array took {measure_time(multiplication_numpy):.6f} seconds\")"
      ],
      "metadata": {
        "colab": {
          "base_uri": "https://localhost:8080/"
        },
        "id": "dJJSUrjXEucp",
        "outputId": "e499c1b8-2e9c-44cc-c9a2-742c91151692"
      },
      "execution_count": 32,
      "outputs": [
        {
          "output_type": "stream",
          "name": "stdout",
          "text": [
            "Element-wise Multiplication:\n",
            "Python lists took 0.356494 seconds\n",
            "Numpy array took 0.010231 seconds\n"
          ]
        }
      ]
    },
    {
      "cell_type": "markdown",
      "source": [
        "3. Dot Product"
      ],
      "metadata": {
        "id": "EvUairg4IYMk"
      }
    },
    {
      "cell_type": "code",
      "source": [
        "def dot_product_python():\n",
        "    list1 = [i for i in range(1_000_000)]\n",
        "    list2 = [i for i in range(1_000_000)]\n",
        "    result = sum(list1[i] * list2[i] for i in range(len(list1)))\n",
        "\n",
        "def dot_product_numpy():\n",
        "    arr1 = np.arange(1_000_000)\n",
        "    arr2 = np.arange(1_000_000)\n",
        "    result = np.dot(arr1, arr2)\n",
        "\n",
        "print(\"Dot Product:\")\n",
        "print(f\"Python lists took {measure_time(dot_product_python):.6f} seconds\")\n",
        "print(f\"Numpy array took {measure_time(dot_product_numpy):.6f} seconds\")"
      ],
      "metadata": {
        "colab": {
          "base_uri": "https://localhost:8080/"
        },
        "id": "aZt6KPDYExfh",
        "outputId": "bcc36ad9-a8b7-4bce-8363-16b17a83f13c"
      },
      "execution_count": 34,
      "outputs": [
        {
          "output_type": "stream",
          "name": "stdout",
          "text": [
            "Dot Product:\n",
            "Python lists took 0.253449 seconds\n",
            "Numpy array took 0.030346 seconds\n"
          ]
        }
      ]
    },
    {
      "cell_type": "markdown",
      "source": [
        "4. Matrix Multiplication"
      ],
      "metadata": {
        "id": "hx4tnQ8cIUNm"
      }
    },
    {
      "cell_type": "code",
      "source": [
        "def matrix_multiplication_python():\n",
        "    mat1 = [[j for j in range(1000)] for i in range(1000)]\n",
        "    mat2 = [[j for j in range(1000)] for i in range(1000)]\n",
        "    result = [[sum(a * b for a, b in zip(row, col)) for col in zip(*mat2)] for row in mat1]\n",
        "\n",
        "def matrix_multiplication_numpy():\n",
        "    mat1 = np.arange(1000*1000).reshape(1000, 1000)\n",
        "    mat2 = np.arange(1000*1000).reshape(1000, 1000)\n",
        "    result = np.dot(mat1, mat2)\n",
        "\n",
        "print(\"Matrix Multiplication:\")\n",
        "print(f\"Python lists took {measure_time(matrix_multiplication_python):.6f} seconds\")\n",
        "print(f\"Numpy array took{measure_time(matrix_multiplication_numpy):.6f} seconds\")"
      ],
      "metadata": {
        "colab": {
          "base_uri": "https://localhost:8080/"
        },
        "id": "iGaH8tHCEzqw",
        "outputId": "cb05bb19-1a98-40a9-f1f6-b33c20b79b3c"
      },
      "execution_count": 35,
      "outputs": [
        {
          "output_type": "stream",
          "name": "stdout",
          "text": [
            "Matrix Multiplication:\n",
            "Python lists took 210.012163 seconds\n",
            "Numpy array took2.127786 seconds\n"
          ]
        }
      ]
    },
    {
      "cell_type": "markdown",
      "source": [
        "Hence, in every experiment numpy proves to be a lot faster specially while permforming matrix multiplication."
      ],
      "metadata": {
        "id": "WmhZulJsH4Qt"
      }
    }
  ]
}