{
  "cells": [
    {
      "cell_type": "markdown",
      "source": [
        "1. Load the Dataset"
      ],
      "metadata": {
        "id": "ZclM3kqIit6I"
      }
    },
    {
      "cell_type": "code",
      "source": [
        "from google.colab import drive\n",
        "drive.mount('/content/drive')"
      ],
      "metadata": {
        "colab": {
          "base_uri": "https://localhost:8080/"
        },
        "id": "6UMmhz4Tq3Ym",
        "outputId": "5c5ad875-180b-428b-9062-b06723d10843"
      },
      "execution_count": 4,
      "outputs": [
        {
          "output_type": "stream",
          "name": "stdout",
          "text": [
            "Drive already mounted at /content/drive; to attempt to forcibly remount, call drive.mount(\"/content/drive\", force_remount=True).\n"
          ]
        }
      ]
    },
    {
      "cell_type": "code",
      "source": [
        "import pandas as pd\n",
        "import time\n",
        "import matplotlib.pyplot as plt"
      ],
      "metadata": {
        "id": "jZBx5VDxitDI"
      },
      "execution_count": 22,
      "outputs": []
    },
    {
      "cell_type": "code",
      "execution_count": 6,
      "metadata": {
        "id": "zwFnJsE6vjf8"
      },
      "outputs": [],
      "source": [
        "# Load the dataset\n",
        "df = pd.read_csv('/content/drive/MyDrive/diabetes.csv')\n"
      ]
    },
    {
      "cell_type": "code",
      "source": [
        "\n",
        "# Perform EDA: Data types, summary statistics, missing values\n",
        "print(\"Data Types:\")\n",
        "print(df.dtypes)\n",
        "\n",
        "print(\"\\nSummary Statistics:\")\n",
        "print(df.describe())"
      ],
      "metadata": {
        "colab": {
          "base_uri": "https://localhost:8080/"
        },
        "id": "M3Nnusgii3Dq",
        "outputId": "641f6b65-78e0-47ed-bdb5-69f788c6df0c"
      },
      "execution_count": 7,
      "outputs": [
        {
          "output_type": "stream",
          "name": "stdout",
          "text": [
            "Data Types:\n",
            "Pregnancies                   int64\n",
            "Glucose                       int64\n",
            "BloodPressure                 int64\n",
            "SkinThickness                 int64\n",
            "Insulin                       int64\n",
            "BMI                         float64\n",
            "DiabetesPedigreeFunction    float64\n",
            "Age                           int64\n",
            "Outcome                       int64\n",
            "dtype: object\n",
            "\n",
            "Summary Statistics:\n",
            "       Pregnancies     Glucose  BloodPressure  SkinThickness     Insulin  \\\n",
            "count   768.000000  768.000000     768.000000     768.000000  768.000000   \n",
            "mean      3.845052  120.894531      69.105469      20.536458   79.799479   \n",
            "std       3.369578   31.972618      19.355807      15.952218  115.244002   \n",
            "min       0.000000    0.000000       0.000000       0.000000    0.000000   \n",
            "25%       1.000000   99.000000      62.000000       0.000000    0.000000   \n",
            "50%       3.000000  117.000000      72.000000      23.000000   30.500000   \n",
            "75%       6.000000  140.250000      80.000000      32.000000  127.250000   \n",
            "max      17.000000  199.000000     122.000000      99.000000  846.000000   \n",
            "\n",
            "              BMI  DiabetesPedigreeFunction         Age     Outcome  \n",
            "count  768.000000                768.000000  768.000000  768.000000  \n",
            "mean    31.992578                  0.471876   33.240885    0.348958  \n",
            "std      7.884160                  0.331329   11.760232    0.476951  \n",
            "min      0.000000                  0.078000   21.000000    0.000000  \n",
            "25%     27.300000                  0.243750   24.000000    0.000000  \n",
            "50%     32.000000                  0.372500   29.000000    0.000000  \n",
            "75%     36.600000                  0.626250   41.000000    1.000000  \n",
            "max     67.100000                  2.420000   81.000000    1.000000  \n"
          ]
        }
      ]
    },
    {
      "cell_type": "code",
      "source": [
        "# Check for missing values\n",
        "missing_values_count = (df.isnull().sum() / len(df)) * 100\n",
        "print(\"\\nMissing values percentage for each column:\")\n",
        "print(missing_values_count)\n"
      ],
      "metadata": {
        "colab": {
          "base_uri": "https://localhost:8080/"
        },
        "id": "UrjEP4ari6-Z",
        "outputId": "8c138810-f93b-494b-dbfd-67b407c28e87"
      },
      "execution_count": 8,
      "outputs": [
        {
          "output_type": "stream",
          "name": "stdout",
          "text": [
            "\n",
            "Missing values percentage for each column:\n",
            "Pregnancies                 0.0\n",
            "Glucose                     0.0\n",
            "BloodPressure               0.0\n",
            "SkinThickness               0.0\n",
            "Insulin                     0.0\n",
            "BMI                         0.0\n",
            "DiabetesPedigreeFunction    0.0\n",
            "Age                         0.0\n",
            "Outcome                     0.0\n",
            "dtype: float64\n"
          ]
        }
      ]
    },
    {
      "cell_type": "markdown",
      "source": [
        "2. Handle Missing Data\n"
      ],
      "metadata": {
        "id": "JiKsFYAfjKjk"
      }
    },
    {
      "cell_type": "code",
      "source": [
        "# Check for missing values\n",
        "missing_values_count = (df.isnull().sum() / len(df)) * 100\n",
        "print(\"Missing values count for each column:\")\n",
        "print(missing_values_count)\n",
        "\n",
        "# Since no missing values are found in this dataset, no further handling is required\n"
      ],
      "metadata": {
        "colab": {
          "base_uri": "https://localhost:8080/"
        },
        "id": "Dq9ixLfnjMoi",
        "outputId": "f643a141-554d-48f2-a189-0e4535d24760"
      },
      "execution_count": 9,
      "outputs": [
        {
          "output_type": "stream",
          "name": "stdout",
          "text": [
            "Missing values count for each column:\n",
            "Pregnancies                 0.0\n",
            "Glucose                     0.0\n",
            "BloodPressure               0.0\n",
            "SkinThickness               0.0\n",
            "Insulin                     0.0\n",
            "BMI                         0.0\n",
            "DiabetesPedigreeFunction    0.0\n",
            "Age                         0.0\n",
            "Outcome                     0.0\n",
            "dtype: float64\n"
          ]
        }
      ]
    },
    {
      "cell_type": "markdown",
      "source": [
        "3. Feature Engineering"
      ],
      "metadata": {
        "id": "SdOPBOVwjRhe"
      }
    },
    {
      "cell_type": "code",
      "source": [
        "# Separate the feature matrix (X) and target variable (y)\n",
        "X = df.drop(columns=[\"Outcome\"]).values  # Features\n",
        "y = df[\"Outcome\"].values  # Target\n"
      ],
      "metadata": {
        "id": "4CmuU9R2jYnQ"
      },
      "execution_count": 10,
      "outputs": []
    },
    {
      "cell_type": "code",
      "source": [
        "# Implement a custom train-test split function\n",
        "import numpy as np\n",
        "\n",
        "def train_test_split_scratch(X, y, test_size=0.3, random_seed=42):\n",
        "    np.random.seed(random_seed)\n",
        "    indices = np.arange(X.shape[0])\n",
        "    np.random.shuffle(indices)  # Shuffle the indices\n",
        "    test_split_size = int(len(X) * test_size)\n",
        "    test_indices = indices[:test_split_size]\n",
        "    train_indices = indices[test_split_size:]\n",
        "    X_train, X_test = X[train_indices], X[test_indices]\n",
        "    y_train, y_test = y[train_indices], y[test_indices]\n",
        "    return X_train, X_test, y_train, y_test\n"
      ],
      "metadata": {
        "id": "Meo5xaljjfON"
      },
      "execution_count": 11,
      "outputs": []
    },
    {
      "cell_type": "code",
      "source": [
        "# Perform a train-test split (70% train, 30% test)\n",
        "X_train, X_test, y_train, y_test = train_test_split_scratch(X, y, test_size=0.3)\n",
        "\n",
        "# Output shapes to verify\n",
        "print(\"Shape of X_train:\", X_train.shape)\n",
        "print(\"Shape of X_test:\", X_test.shape)\n",
        "print(\"Shape of y_train:\", y_train.shape)\n",
        "print(\"Shape of y_test:\", y_test.shape)"
      ],
      "metadata": {
        "colab": {
          "base_uri": "https://localhost:8080/"
        },
        "id": "mHOuxi-NjhzK",
        "outputId": "4d634f89-f5ff-4426-b07f-1f360f112552"
      },
      "execution_count": 12,
      "outputs": [
        {
          "output_type": "stream",
          "name": "stdout",
          "text": [
            "Shape of X_train: (538, 8)\n",
            "Shape of X_test: (230, 8)\n",
            "Shape of y_train: (538,)\n",
            "Shape of y_test: (230,)\n"
          ]
        }
      ]
    },
    {
      "cell_type": "markdown",
      "source": [
        "4. Implement KNN\n",
        "\n",
        "Euclidean Distance Function"
      ],
      "metadata": {
        "id": "N_K8flgEjn_B"
      }
    },
    {
      "cell_type": "code",
      "source": [
        "def euclidean_distance(point1, point2): #The euclidean_distance function computes the Euclidean distance between two points.\n",
        "    \"\"\"\n",
        "    Calculate the Euclidean distance between two points.\n",
        "    \"\"\"\n",
        "    if point1.shape != point2.shape:\n",
        "        raise ValueError(\"Points must have the same dimensions.\")\n",
        "    return np.sqrt(np.sum((point1 - point2) ** 2))\n"
      ],
      "metadata": {
        "id": "W50jT9-MjuF-"
      },
      "execution_count": 13,
      "outputs": []
    },
    {
      "cell_type": "markdown",
      "source": [
        "KNN Prediction for a Single Query"
      ],
      "metadata": {
        "id": "L2dDml-Rj5Bp"
      }
    },
    {
      "cell_type": "code",
      "source": [
        "def knn_predict_single(query, X_train, y_train, k=3):\n",
        "    \"\"\"\n",
        "    Predict the class label for a single query using KNN.\n",
        "    \"\"\"\n",
        "    distances = [euclidean_distance(query, train_point) for train_point in X_train]\n",
        "    sorted_indices = np.argsort(distances)\n",
        "    nearest_indices = sorted_indices[:k]\n",
        "    nearest_labels = y_train[nearest_indices]\n",
        "    prediction = np.bincount(nearest_labels).argmax()  # Majority voting\n",
        "    return prediction\n"
      ],
      "metadata": {
        "id": "bWLANkrgj8KT"
      },
      "execution_count": 14,
      "outputs": []
    },
    {
      "cell_type": "markdown",
      "source": [
        "KNN Prediction for All Test Samples"
      ],
      "metadata": {
        "id": "B9f_G7A3kCU7"
      }
    },
    {
      "cell_type": "code",
      "source": [
        "def knn_predict(X_test, X_train, y_train, k=3):\n",
        "    \"\"\"\n",
        "    Predict the class labels for all test samples using KNN.\n",
        "    \"\"\"\n",
        "    predictions = [knn_predict_single(x, X_train, y_train, k) for x in X_test]\n",
        "    return np.array(predictions)\n"
      ],
      "metadata": {
        "id": "Z5ka3uerkHz1"
      },
      "execution_count": 15,
      "outputs": []
    },
    {
      "cell_type": "markdown",
      "source": [
        "Evaluating Accuracy"
      ],
      "metadata": {
        "id": "Jzs1vgnJkMHk"
      }
    },
    {
      "cell_type": "code",
      "source": [
        "def compute_accuracy(y_true, y_pred):\n",
        "    \"\"\"\n",
        "    Compute the accuracy of predictions.\n",
        "    \"\"\"\n",
        "    correct_predictions = np.sum(y_true == y_pred)\n",
        "    total_predictions = len(y_true)\n",
        "    accuracy = (correct_predictions / total_predictions) * 100\n",
        "    return accuracy\n",
        "\n",
        "# Perform predictions on the test set\n",
        "predictions = knn_predict(X_test, X_train, y_train, k=3)\n",
        "\n",
        "# Calculate accuracy\n",
        "accuracy = compute_accuracy(y_test, predictions)\n",
        "print(f\"Accuracy of the KNN model on the test set: {accuracy:.2f}%\")\n"
      ],
      "metadata": {
        "colab": {
          "base_uri": "https://localhost:8080/"
        },
        "id": "XBoFf-sIkXo6",
        "outputId": "473ff40e-f73a-4826-ac40-668fff7c51a8"
      },
      "execution_count": 16,
      "outputs": [
        {
          "output_type": "stream",
          "name": "stdout",
          "text": [
            "Accuracy of the KNN model on the test set: 67.39%\n"
          ]
        }
      ]
    },
    {
      "cell_type": "markdown",
      "source": [
        "Problem 2: Experimentation\n",
        "1. Repeat the Classification Task:\n",
        "\n",
        "Scale the feature matrix\n",
        "𝑋\n",
        "X.\n",
        "Use the scaled data for training and testing the KNN classifier.\n",
        "Record the results.\n",
        "Step 1: Scaling the Feature Matrix"
      ],
      "metadata": {
        "id": "hhkYnQI0kgB-"
      }
    },
    {
      "cell_type": "code",
      "source": [
        "from sklearn.preprocessing import StandardScaler\n",
        "from sklearn.metrics import accuracy_score\n",
        "\n",
        "# Scale the features using StandardScaler\n",
        "scaler = StandardScaler()\n",
        "\n",
        "X_train_scaled = scaler.fit_transform(X_train)\n",
        "X_test_scaled = scaler.transform(X_test)\n",
        "\n",
        "# Train and test KNN on scaled data\n",
        "k = 3  # You can experiment with different k values later\n",
        "predictions_scaled = knn_predict(X_test_scaled, X_train_scaled, y_train, k)\n",
        "accuracy_scaled = accuracy_score(y_test, predictions_scaled)\n",
        "\n",
        "print(f\"Accuracy on scaled data: {accuracy_scaled * 100:.2f}%\")\n"
      ],
      "metadata": {
        "colab": {
          "base_uri": "https://localhost:8080/"
        },
        "id": "niH15idRlOIG",
        "outputId": "e862af02-5d57-4091-95c3-8d0dab0d144d"
      },
      "execution_count": 17,
      "outputs": [
        {
          "output_type": "stream",
          "name": "stdout",
          "text": [
            "Accuracy on scaled data: 70.87%\n"
          ]
        }
      ]
    },
    {
      "cell_type": "markdown",
      "source": [
        "Step 2: Compare the Results"
      ],
      "metadata": {
        "id": "e_lW09DxlSdC"
      }
    },
    {
      "cell_type": "code",
      "source": [
        "# Train and test KNN on original (non-scaled) data\n",
        "predictions_original = knn_predict(X_test, X_train, y_train, k)\n",
        "accuracy_original = accuracy_score(y_test, predictions_original)\n",
        "\n",
        "print(f\"Accuracy on original data: {accuracy_original * 100:.2f}%\")\n"
      ],
      "metadata": {
        "id": "pBSBqmBqlVO3",
        "colab": {
          "base_uri": "https://localhost:8080/"
        },
        "outputId": "09c383de-534e-4383-e41e-7b979800e080"
      },
      "execution_count": 18,
      "outputs": [
        {
          "output_type": "stream",
          "name": "stdout",
          "text": [
            "Accuracy on original data: 67.39%\n"
          ]
        }
      ]
    },
    {
      "cell_type": "markdown",
      "source": [
        "Problem 3: Experimentation with k\n",
        "\n",
        "Step 1: Run the KNN Model for Different k Values"
      ],
      "metadata": {
        "id": "aDqESnSilYJu"
      }
    },
    {
      "cell_type": "code",
      "source": [
        "\n",
        "# Function to run KNN for a range of k values\n",
        "def knn_experiment(X_train, X_test, y_train, y_test, k_values):\n",
        "    accuracies = []\n",
        "    times = []\n",
        "\n",
        "    for k in k_values:\n",
        "        start_time = time.time()  # Start the timer\n",
        "\n",
        "        # Make predictions using the KNN model\n",
        "        predictions = knn_predict(X_test, X_train, y_train, k)\n",
        "\n",
        "        # Calculate accuracy\n",
        "        accuracy = accuracy_score(y_test, predictions)\n",
        "        accuracies.append(accuracy)\n",
        "\n",
        "        # Measure time taken\n",
        "        end_time = time.time()\n",
        "        time_taken = end_time - start_time\n",
        "        times.append(time_taken)\n",
        "\n",
        "    return accuracies, times\n",
        "\n",
        "# Define the range of k values to test\n",
        "k_values = range(1, 16)\n",
        "\n",
        "# Experiment on original data\n",
        "accuracies_original, times_original = knn_experiment(X_train, X_test, y_train, y_test, k_values)\n",
        "\n",
        "# Experiment on scaled data\n",
        "accuracies_scaled, times_scaled = knn_experiment(X_train_scaled, X_test_scaled, y_train, y_test, k_values)\n",
        "\n",
        "print(\"Experiment Results:\")\n",
        "print(accuracies_original)\n",
        "print(times_original)"
      ],
      "metadata": {
        "id": "kQe_tBtJlkLP",
        "colab": {
          "base_uri": "https://localhost:8080/"
        },
        "outputId": "f9a09f26-319b-4cb0-9f85-8d3382fe9c2d"
      },
      "execution_count": 24,
      "outputs": [
        {
          "output_type": "stream",
          "name": "stdout",
          "text": [
            "Experiment Results:\n",
            "[0.6869565217391305, 0.7260869565217392, 0.6739130434782609, 0.7217391304347827, 0.6869565217391305, 0.7, 0.691304347826087, 0.7130434782608696, 0.7, 0.717391304347826, 0.7304347826086957, 0.7391304347826086, 0.7434782608695653, 0.7260869565217392, 0.7391304347826086]\n",
            "[1.04172682762146, 1.4979021549224854, 1.509352445602417, 1.5242838859558105, 0.8574414253234863, 0.8224468231201172, 0.8260698318481445, 0.8257763385772705, 0.8716895580291748, 0.8293790817260742, 0.8597750663757324, 0.8334038257598877, 0.8322031497955322, 0.8731954097747803, 0.8377561569213867]\n"
          ]
        }
      ]
    },
    {
      "cell_type": "markdown",
      "source": [
        "2. Visualize the Results:"
      ],
      "metadata": {
        "id": "Vj_tyy_Nlv30"
      }
    },
    {
      "cell_type": "code",
      "source": [
        "# Plotting k vs Accuracy\n",
        "plt.figure(figsize=(12, 4))\n",
        "\n",
        "# Accuracy plot\n",
        "plt.subplot(1, 2, 1)\n",
        "plt.plot(k_values, accuracies_original, label=\"Original Data\", marker='o')\n",
        "plt.plot(k_values, accuracies_scaled, label=\"Scaled Data\", marker='o')\n",
        "plt.xlabel('Number of Neighbors (k)')\n",
        "plt.ylabel('Accuracy (%)')\n",
        "plt.title('k vs. Accuracy')\n",
        "plt.legend()\n",
        "\n",
        "# Time plot\n",
        "plt.subplot(1, 2, 2)\n",
        "plt.plot(k_values, times_original, label=\"Original Data\", marker='o')\n",
        "plt.plot(k_values, times_scaled, label=\"Scaled Data\", marker='o')\n",
        "plt.xlabel('Number of Neighbors (k)')\n",
        "plt.ylabel('Time Taken (seconds)')\n",
        "plt.title('k vs. Time Taken')\n",
        "plt.legend()\n",
        "\n",
        "plt.tight_layout()\n",
        "plt.show()\n"
      ],
      "metadata": {
        "colab": {
          "base_uri": "https://localhost:8080/",
          "height": 407
        },
        "id": "ZLRObvIBlvWa",
        "outputId": "36a72f37-81cc-4fbf-f305-afb6a0f028bf"
      },
      "execution_count": 21,
      "outputs": [
        {
          "output_type": "display_data",
          "data": {
            "text/plain": [
              "<Figure size 1200x400 with 2 Axes>"
            ],
            "image/png": "[encoded data removed]"
          },
          "metadata": {}
        }
      ]
    },
    {
      "cell_type": "markdown",
      "source": [
        "Accuracy vs. 𝑘 k:\n",
        "\n",
        "Small 𝑘 k: High sensitivity to noise, risk of overfitting. Large 𝑘 k: Smoother predictions but risk of underfitting. Scaling improves accuracy consistency as features contribute equally. Computational Cost vs. 𝑘 k:\n",
        "\n",
        "Cost grows with 𝑘 k since more distances are computed and sorted. Trade-off exists between high accuracy and time efficiency. Optimal 𝑘 k:\n",
        "\n",
        "Found where accuracy peaks or stabilizes with moderate computational cost (often 𝑘 = 3 k=3 to 𝑘 = 10 k=10). Use cross-validation to confirm the choice of 𝑘 k. Let me know your results, and I can help pinpoint the best 𝑘 k"
      ],
      "metadata": {
        "id": "i5kRLx2XucAT"
      }
    }
  ],
  "metadata": {
    "colab": {
      "provenance": []
    },
    "kernelspec": {
      "display_name": "Python 3",
      "name": "python3"
    }
  },
  "nbformat": 4,
  "nbformat_minor": 0
}